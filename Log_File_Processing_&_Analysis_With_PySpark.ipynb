{
  "nbformat": 4,
  "nbformat_minor": 0,
  "metadata": {
    "colab": {
      "provenance": []
    },
    "kernelspec": {
      "name": "python3",
      "display_name": "Python 3"
    },
    "language_info": {
      "name": "python"
    }
  },
  "cells": [
    {
      "cell_type": "markdown",
      "source": [
        "# **Importing the Dataset from Kaggle**"
      ],
      "metadata": {
        "id": "WjZbSp0V7cym"
      }
    },
    {
      "cell_type": "markdown",
      "source": [
        "In this section, we connect Google Drive to access the Kaggle API token stored within it.\n",
        "Using the Kaggle API, we import the **NASA Website Data dataset**, which contains **HTTP web server logs** from the **NASA Kennedy Space Center (KSC)** for August 1995. Each record represents a single request made by an Internet host to the NASA website and includes details such as the **requesting host, timestamp, requested resource (URL), HTTP status code**, and **response size in bytes**."
      ],
      "metadata": {
        "id": "I2cn6iPL8baU"
      }
    },
    {
      "cell_type": "code",
      "execution_count": 2,
      "metadata": {
        "colab": {
          "base_uri": "https://localhost:8080/"
        },
        "id": "oDB1b2Me22as",
        "outputId": "51483e34-793b-422c-cb9f-3267f1555153"
      },
      "outputs": [
        {
          "output_type": "stream",
          "name": "stdout",
          "text": [
            "Mounted at /content/drive\n"
          ]
        }
      ],
      "source": [
        "from google.colab import drive\n",
        "drive.mount('/content/drive')"
      ]
    },
    {
      "cell_type": "code",
      "source": [
        "!mkdir ~/.kaggle\n",
        "!cp /content/drive/MyDrive/kaggle/kaggle.json ~/.kaggle/\n",
        "!chmod 600 ~/.kaggle/kaggle.json"
      ],
      "metadata": {
        "id": "IUnGfIB-68nA"
      },
      "execution_count": 3,
      "outputs": []
    },
    {
      "cell_type": "code",
      "source": [
        "!kaggle datasets download -d djaouadnm/nasa-website-data"
      ],
      "metadata": {
        "colab": {
          "base_uri": "https://localhost:8080/"
        },
        "id": "gAy3-ced7HtK",
        "outputId": "3f1ec43c-2902-4186-f0c2-3598e4119d8d"
      },
      "execution_count": 4,
      "outputs": [
        {
          "output_type": "stream",
          "name": "stdout",
          "text": [
            "Dataset URL: https://www.kaggle.com/datasets/djaouadnm/nasa-website-data\n",
            "License(s): CC0-1.0\n",
            "Downloading nasa-website-data.zip to /content\n",
            "  0% 0.00/16.1M [00:00<?, ?B/s]\n",
            "100% 16.1M/16.1M [00:00<00:00, 1.24GB/s]\n"
          ]
        }
      ]
    },
    {
      "cell_type": "code",
      "source": [
        "!unzip -o nasa-website-data.zip"
      ],
      "metadata": {
        "colab": {
          "base_uri": "https://localhost:8080/"
        },
        "id": "SXl1n92g7hy2",
        "outputId": "618c045e-7ff0-4081-9ed2-27c7ffc5c3eb"
      },
      "execution_count": 5,
      "outputs": [
        {
          "output_type": "stream",
          "name": "stdout",
          "text": [
            "Archive:  nasa-website-data.zip\n",
            "  inflating: nasa_aug95_c.csv        \n"
          ]
        }
      ]
    },
    {
      "cell_type": "markdown",
      "source": [
        "# **Reading CSV File**"
      ],
      "metadata": {
        "id": "i9NbV0-x8paF"
      }
    },
    {
      "cell_type": "code",
      "source": [
        "from pyspark.sql import SparkSession\n",
        "spark = SparkSession.builder.appName(\"LogsAnalysis\").getOrCreate()"
      ],
      "metadata": {
        "id": "R5C7mMPu8sW9"
      },
      "execution_count": 7,
      "outputs": []
    },
    {
      "cell_type": "code",
      "source": [
        "# Define the dataset path\n",
        "path = \"/content/nasa_aug95_c.csv\"\n",
        "\n",
        "# Read the CSV file into a Spark DataFrame\n",
        "df = spark.read.csv(path, header=True, inferSchema=True)\n",
        "\n",
        "# Display the first 5 rows of the DataFrame\n",
        "df.show(5)"
      ],
      "metadata": {
        "colab": {
          "base_uri": "https://localhost:8080/"
        },
        "id": "Ik1sOIoX-CpY",
        "outputId": "f3ecad14-cf9f-4a23-859e-eaef48e09907"
      },
      "execution_count": 8,
      "outputs": [
        {
          "output_type": "stream",
          "name": "stdout",
          "text": [
            "+-----------------+-------------------+--------------------+------+-------------+\n",
            "|  requesting_host|           datetime|             request|status|response_size|\n",
            "+-----------------+-------------------+--------------------+------+-------------+\n",
            "|in24.inetnebr.com|1995-08-01 00:00:01|GET /shuttle/miss...|   200|       1839.0|\n",
            "|  uplherc.upl.com|1995-08-01 00:00:07|      GET / HTTP/1.0|   304|          0.0|\n",
            "|  uplherc.upl.com|1995-08-01 00:00:08|GET /images/ksclo...|   304|          0.0|\n",
            "|  uplherc.upl.com|1995-08-01 00:00:08|GET /images/MOSAI...|   304|          0.0|\n",
            "|  uplherc.upl.com|1995-08-01 00:00:08|GET /images/USA-l...|   304|          0.0|\n",
            "+-----------------+-------------------+--------------------+------+-------------+\n",
            "only showing top 5 rows\n",
            "\n"
          ]
        }
      ]
    },
    {
      "cell_type": "code",
      "source": [
        "# Number of rows\n",
        "df.count()"
      ],
      "metadata": {
        "colab": {
          "base_uri": "https://localhost:8080/"
        },
        "id": "A-w4JXtDOw1u",
        "outputId": "171a4443-bdf6-4126-b6c1-ad8759b67b7c"
      },
      "execution_count": 9,
      "outputs": [
        {
          "output_type": "execute_result",
          "data": {
            "text/plain": [
              "1569888"
            ]
          },
          "metadata": {},
          "execution_count": 9
        }
      ]
    },
    {
      "cell_type": "code",
      "source": [
        "# To see basic statistics of numeric columns\n",
        "df.describe().show()"
      ],
      "metadata": {
        "colab": {
          "base_uri": "https://localhost:8080/"
        },
        "id": "m-iACAm6bgLa",
        "outputId": "643b9438-d04e-460c-873a-d7805fa81170"
      },
      "execution_count": 10,
      "outputs": [
        {
          "output_type": "stream",
          "name": "stdout",
          "text": [
            "+-------+--------------------+-----------------+-----------------+----------------+\n",
            "|summary|     requesting_host|          request|           status|   response_size|\n",
            "+-------+--------------------+-----------------+-----------------+----------------+\n",
            "|  count|             1569888|          1569888|          1569888|         1555720|\n",
            "|   mean|                NULL|             NULL|211.9429118510365|17244.9678759674|\n",
            "| stddev|                NULL|             NULL|35.07107507102347|68244.0386594844|\n",
            "|    min|         ***.novo.dk|                ?|              200|             0.0|\n",
            "|    max|zzzzzzzz.mindspri...|huttle/countdown/|              501|       3421948.0|\n",
            "+-------+--------------------+-----------------+-----------------+----------------+\n",
            "\n"
          ]
        }
      ]
    },
    {
      "cell_type": "code",
      "source": [
        "# Print the schema (structure) of the DataFrame\n",
        "df.printSchema()"
      ],
      "metadata": {
        "colab": {
          "base_uri": "https://localhost:8080/"
        },
        "id": "FdXDtJRb-JNf",
        "outputId": "7dd43b6d-c1d2-4621-d764-a26f94f0eb68"
      },
      "execution_count": 11,
      "outputs": [
        {
          "output_type": "stream",
          "name": "stdout",
          "text": [
            "root\n",
            " |-- requesting_host: string (nullable = true)\n",
            " |-- datetime: timestamp (nullable = true)\n",
            " |-- request: string (nullable = true)\n",
            " |-- status: integer (nullable = true)\n",
            " |-- response_size: double (nullable = true)\n",
            "\n"
          ]
        }
      ]
    },
    {
      "cell_type": "code",
      "source": [
        "# Check column names with their data types\n",
        "df.dtypes"
      ],
      "metadata": {
        "colab": {
          "base_uri": "https://localhost:8080/"
        },
        "id": "Ng2ocr4B-KpN",
        "outputId": "38313ca1-81a7-442c-b13a-4e0b314d0110"
      },
      "execution_count": 12,
      "outputs": [
        {
          "output_type": "execute_result",
          "data": {
            "text/plain": [
              "[('requesting_host', 'string'),\n",
              " ('datetime', 'timestamp'),\n",
              " ('request', 'string'),\n",
              " ('status', 'int'),\n",
              " ('response_size', 'double')]"
            ]
          },
          "metadata": {},
          "execution_count": 12
        }
      ]
    },
    {
      "cell_type": "code",
      "source": [
        "# Get unique values from the status column\n",
        "df.select(\"status\").distinct().show()"
      ],
      "metadata": {
        "colab": {
          "base_uri": "https://localhost:8080/"
        },
        "id": "Dtw7DpuiKzwt",
        "outputId": "03bf3091-c590-46e4-d006-d6f625286ff5"
      },
      "execution_count": 13,
      "outputs": [
        {
          "output_type": "stream",
          "name": "stdout",
          "text": [
            "+------+\n",
            "|status|\n",
            "+------+\n",
            "|   501|\n",
            "|   500|\n",
            "|   403|\n",
            "|   404|\n",
            "|   200|\n",
            "|   304|\n",
            "|   302|\n",
            "|   400|\n",
            "+------+\n",
            "\n"
          ]
        }
      ]
    },
    {
      "cell_type": "markdown",
      "source": [
        "In short:\n",
        "*   **200s** → Successful responses\n",
        "*   **300s** → Redirection or cache-related\n",
        "*   **400s** → Client-side errors\n",
        "*   **500s** → Server-side errors"
      ],
      "metadata": {
        "id": "9DSP84cbNk55"
      }
    },
    {
      "cell_type": "code",
      "source": [
        "# To check for missing or null values in selected columns\n",
        "from pyspark.sql.functions import col\n",
        "\n",
        "def check_nulls(df):\n",
        "    for c in df.columns:\n",
        "        num_null = df.filter((col(c).isNull()) | (col(c) == \"\")).count()\n",
        "        print(f\"The column '{c}' has {num_null} null values.\")\n",
        "\n",
        "check_nulls(df)"
      ],
      "metadata": {
        "colab": {
          "base_uri": "https://localhost:8080/"
        },
        "id": "YMZLETI7cZCJ",
        "outputId": "b67f86de-a043-48fd-cda8-57c2f03db118"
      },
      "execution_count": 14,
      "outputs": [
        {
          "output_type": "stream",
          "name": "stdout",
          "text": [
            "The column 'requesting_host' has 0 null values.\n",
            "The column 'datetime' has 0 null values.\n",
            "The column 'request' has 0 null values.\n",
            "The column 'status' has 0 null values.\n",
            "The column 'response_size' has 14168 null values.\n"
          ]
        }
      ]
    },
    {
      "cell_type": "code",
      "source": [
        "# Drop the rows where 'Sales' has null values\n",
        "df = df.dropna(subset=[\"response_size\"])"
      ],
      "metadata": {
        "id": "11iRbzw5f0iN"
      },
      "execution_count": 15,
      "outputs": []
    },
    {
      "cell_type": "code",
      "source": [
        "check_nulls(df)"
      ],
      "metadata": {
        "colab": {
          "base_uri": "https://localhost:8080/"
        },
        "id": "Bxx0o_XFgdKa",
        "outputId": "ee428667-63e1-4f5a-8610-b9c5abfa5318"
      },
      "execution_count": 16,
      "outputs": [
        {
          "output_type": "stream",
          "name": "stdout",
          "text": [
            "The column 'requesting_host' has 0 null values.\n",
            "The column 'datetime' has 0 null values.\n",
            "The column 'request' has 0 null values.\n",
            "The column 'status' has 0 null values.\n",
            "The column 'response_size' has 0 null values.\n"
          ]
        }
      ]
    },
    {
      "cell_type": "markdown",
      "source": [
        "# **Find the top 10 most requested pages (URLs) on the NASA website.**"
      ],
      "metadata": {
        "id": "SZlVmlElAceP"
      }
    },
    {
      "cell_type": "code",
      "source": [
        "from pyspark.sql import functions as F\n",
        "\n",
        "df_page = df.withColumn('Page', F.regexp_extract(F.col('request'), r'GET (.*?) HTTP', 1))\n",
        "\n",
        "df_page.groupBy(\"Page\") \\\n",
        "    .agg(F.count(\"request\").alias('Total_requests')) \\\n",
        "    .orderBy(F.desc('Total_requests')) \\\n",
        "    .show(10, truncate=False)"
      ],
      "metadata": {
        "colab": {
          "base_uri": "https://localhost:8080/"
        },
        "id": "2yGYYyMiAfQI",
        "outputId": "29fa36d7-b85b-4052-ea0c-f3a9a936456e"
      },
      "execution_count": 17,
      "outputs": [
        {
          "output_type": "stream",
          "name": "stdout",
          "text": [
            "+---------------------------------------+--------------+\n",
            "|Page                                   |Total_requests|\n",
            "+---------------------------------------+--------------+\n",
            "|/images/NASA-logosmall.gif             |96854         |\n",
            "|/images/KSC-logosmall.gif              |75143         |\n",
            "|/images/MOSAIC-logosmall.gif           |66977         |\n",
            "|/images/USA-logosmall.gif              |66605         |\n",
            "|/images/WORLD-logosmall.gif            |65986         |\n",
            "|/images/ksclogo-medium.gif             |62304         |\n",
            "|/ksc.html                              |43392         |\n",
            "|/history/apollo/images/apollo-logo1.gif|37754         |\n",
            "|/images/launch-logo.gif                |35066         |\n",
            "|/                                      |29875         |\n",
            "+---------------------------------------+--------------+\n",
            "only showing top 10 rows\n",
            "\n"
          ]
        }
      ]
    },
    {
      "cell_type": "markdown",
      "source": [
        "# **At what hour of the day does the NASA website receive the most traffic?**"
      ],
      "metadata": {
        "id": "qGNGi0XwD_D0"
      }
    },
    {
      "cell_type": "code",
      "source": [
        "df_hour = df.withColumn('Hour', F.hour(F.col('datetime')))\n",
        "\n",
        "df_hour.groupBy('Hour') \\\n",
        "       .agg(F.count('request').alias('Total_requests')) \\\n",
        "       .orderBy(F.desc('Total_requests')) \\\n",
        "       .show()"
      ],
      "metadata": {
        "colab": {
          "base_uri": "https://localhost:8080/"
        },
        "id": "aoyU4MuSEBFx",
        "outputId": "97c70032-277f-4e6c-b89e-5bd9c2dcb30a"
      },
      "execution_count": 18,
      "outputs": [
        {
          "output_type": "stream",
          "name": "stdout",
          "text": [
            "+----+--------------+\n",
            "|Hour|Total_requests|\n",
            "+----+--------------+\n",
            "|  15|        108645|\n",
            "|  12|        104255|\n",
            "|  13|        103666|\n",
            "|  14|        100661|\n",
            "|  16|         98680|\n",
            "|  11|         94637|\n",
            "|  10|         87558|\n",
            "|  17|         80043|\n",
            "|   9|         78117|\n",
            "|  18|         66222|\n",
            "|   8|         64939|\n",
            "|  22|         60054|\n",
            "|  20|         59318|\n",
            "|  19|         58710|\n",
            "|  21|         57425|\n",
            "|  23|         53935|\n",
            "|   0|         47392|\n",
            "|   7|         47062|\n",
            "|   1|         38109|\n",
            "|   2|         31809|\n",
            "+----+--------------+\n",
            "only showing top 20 rows\n",
            "\n"
          ]
        }
      ]
    },
    {
      "cell_type": "markdown",
      "source": [
        "# **Find the day of the week (Monday, Tuesday, etc.) with the highest total number of requests.**"
      ],
      "metadata": {
        "id": "O3Ksc-QjFaBo"
      }
    },
    {
      "cell_type": "code",
      "source": [
        "df_day = df.withColumn('Day', F.date_format(F.col('datetime'), 'EEEE'))\n",
        "\n",
        "df_day.groupBy('Day') \\\n",
        "       .agg(F.count('request').alias('Total_requests')) \\\n",
        "       .orderBy(F.desc('Total_requests')) \\\n",
        "       .show()"
      ],
      "metadata": {
        "colab": {
          "base_uri": "https://localhost:8080/"
        },
        "id": "w-sHc2MJFZM1",
        "outputId": "cae2d2b9-1af8-4653-ab53-0e73b9531487"
      },
      "execution_count": 19,
      "outputs": [
        {
          "output_type": "stream",
          "name": "stdout",
          "text": [
            "+---------+--------------+\n",
            "|      Day|Total_requests|\n",
            "+---------+--------------+\n",
            "| Thursday|        301669|\n",
            "|  Tuesday|        276317|\n",
            "|Wednesday|        253680|\n",
            "|   Friday|        232515|\n",
            "|   Monday|        226156|\n",
            "|   Sunday|        133032|\n",
            "| Saturday|        132351|\n",
            "+---------+--------------+\n",
            "\n"
          ]
        }
      ]
    },
    {
      "cell_type": "markdown",
      "source": [
        "# **Find the total response size per day of the week to see which day consumes the most bandwidth.**"
      ],
      "metadata": {
        "id": "nCbNlaf4Mjyb"
      }
    },
    {
      "cell_type": "code",
      "source": [
        "df_day.groupBy('Day') \\\n",
        "      .agg(F.sum('response_size').alias('Total_response_size')) \\\n",
        "      .orderBy(F.desc('Total_response_size')) \\\n",
        "      .show()"
      ],
      "metadata": {
        "colab": {
          "base_uri": "https://localhost:8080/"
        },
        "id": "Ixt_N5LwMolW",
        "outputId": "0f1962ed-47b5-40fa-d6da-33f551b2e14c"
      },
      "execution_count": 20,
      "outputs": [
        {
          "output_type": "stream",
          "name": "stdout",
          "text": [
            "+---------+-------------------+\n",
            "|      Day|Total_response_size|\n",
            "+---------+-------------------+\n",
            "| Thursday|       5.04513484E9|\n",
            "|  Tuesday|      4.679266066E9|\n",
            "|Wednesday|      4.217550565E9|\n",
            "|   Friday|      4.087947003E9|\n",
            "|   Monday|      3.803970385E9|\n",
            "|   Sunday|      2.516940002E9|\n",
            "| Saturday|      2.477532563E9|\n",
            "+---------+-------------------+\n",
            "\n"
          ]
        }
      ]
    },
    {
      "cell_type": "markdown",
      "source": [
        "# **Which page generated the highest total response size (in bytes) across all requests?**"
      ],
      "metadata": {
        "id": "k7MgJ0eGN-9n"
      }
    },
    {
      "cell_type": "code",
      "source": [
        "df_page.groupBy('Page')\\\n",
        "      .agg(F.sum('response_size').alias('Total_response_size')) \\\n",
        "      .orderBy(F.desc('Total_response_size')) \\\n",
        "      .show()"
      ],
      "metadata": {
        "colab": {
          "base_uri": "https://localhost:8080/"
        },
        "id": "q5xlRopfOAsY",
        "outputId": "c603df7e-bf4f-4c2f-bb6b-2d8fdb0cae4c"
      },
      "execution_count": 21,
      "outputs": [
        {
          "output_type": "stream",
          "name": "stdout",
          "text": [
            "+--------------------+-------------------+\n",
            "|                Page|Total_response_size|\n",
            "+--------------------+-------------------+\n",
            "|/shuttle/missions...|      1.640444674E9|\n",
            "|/shuttle/missions...|       1.00509884E9|\n",
            "|/shuttle/missions...|       5.11296379E8|\n",
            "|/shuttle/technolo...|       4.92453023E8|\n",
            "|/shuttle/missions...|       4.63593461E8|\n",
            "|/shuttle/missions...|       4.39216472E8|\n",
            "|/shuttle/countdow...|        4.0740895E8|\n",
            "|     /images/rss.gif|       3.24018977E8|\n",
            "|/images/ksclogo-m...|        3.1993164E8|\n",
            "|/shuttle/missions...|        3.0956846E8|\n",
            "|           /ksc.html|       2.91706417E8|\n",
            "|  /images/launch.gif|       2.86305212E8|\n",
            "|/shuttle/missions...|       2.78768874E8|\n",
            "|/shuttle/technolo...|       2.53152638E8|\n",
            "|/shuttle/missions...|       2.45903068E8|\n",
            "|/shuttle/missions...|       2.38252603E8|\n",
            "|/shuttle/missions...|       2.23765612E8|\n",
            "|/images/launchmed...|       2.16696546E8|\n",
            "|/shuttle/missions...|       2.08793835E8|\n",
            "|/shuttle/technolo...|       2.00201448E8|\n",
            "+--------------------+-------------------+\n",
            "only showing top 20 rows\n",
            "\n"
          ]
        }
      ]
    },
    {
      "cell_type": "markdown",
      "source": [
        "# **Identify potential bot/bulk-download activity and quantify its impact.**"
      ],
      "metadata": {
        "id": "hMLQy4SoQPLM"
      }
    },
    {
      "cell_type": "markdown",
      "source": [
        "In this step, we **analyze each requesting host** (IP or domain) to identify potential bot or bulk-download activity. By grouping requests by host, we calculate metrics such as the **total number of requests**, **total data downloaded, number of errors, and approximate number of distinct pages visited**. These metrics help detect abnormal patterns, for example, **hosts making a very large number of requests or downloading excessive data** are likely automated scripts or bots."
      ],
      "metadata": {
        "id": "OjAM1lo2ZMKX"
      }
    },
    {
      "cell_type": "code",
      "source": [
        "df_hosts = df_page.groupBy('requesting_host').agg(\n",
        "    F.count('*').alias('total_requests'),\n",
        "    F.sum('response_size').alias('total_bytes'),\n",
        "    F.sum(F.when(F.col('status') >= 400, 1).otherwise(0)).alias('error_count'),\n",
        "    F.approx_count_distinct('Page').alias('approx_distinct_pages')\n",
        ")"
      ],
      "metadata": {
        "id": "XKHX0_A1QQsU"
      },
      "execution_count": 23,
      "outputs": []
    },
    {
      "cell_type": "code",
      "source": [
        "df_hosts.orderBy(F.desc('total_requests')).show(20, truncate=False)"
      ],
      "metadata": {
        "colab": {
          "base_uri": "https://localhost:8080/"
        },
        "id": "1xpKn8VpZCDm",
        "outputId": "f1683f25-e01a-4578-d94e-062dd512493e"
      },
      "execution_count": 24,
      "outputs": [
        {
          "output_type": "stream",
          "name": "stdout",
          "text": [
            "+--------------------+--------------+-----------+-----------+---------------------+\n",
            "|requesting_host     |total_requests|total_bytes|error_count|approx_distinct_pages|\n",
            "+--------------------+--------------+-----------+-----------+---------------------+\n",
            "|edams.ksc.nasa.gov  |6515          |5.5832306E7|0          |331                  |\n",
            "|piweba4y.prodigy.com|4797          |7.6491025E7|0          |649                  |\n",
            "|163.206.89.4        |4769          |7.0187337E7|0          |730                  |\n",
            "|piweba5y.prodigy.com|4564          |9.8635303E7|0          |726                  |\n",
            "|piweba3y.prodigy.com|4354          |9.0309823E7|0          |657                  |\n",
            "|www-d1.proxy.aol.com|3862          |6.0706648E7|0          |722                  |\n",
            "|www-b2.proxy.aol.com|3516          |5.7577609E7|0          |649                  |\n",
            "|www-b3.proxy.aol.com|3431          |5.9206086E7|0          |639                  |\n",
            "|www-c5.proxy.aol.com|3403          |6.2706573E7|0          |602                  |\n",
            "|www-b5.proxy.aol.com|3381          |5.5511856E7|0          |657                  |\n",
            "|www-c2.proxy.aol.com|3376          |6.0761367E7|0          |683                  |\n",
            "|www-d2.proxy.aol.com|3369          |6.1068369E7|0          |564                  |\n",
            "|www-a2.proxy.aol.com|3325          |5.5401293E7|0          |612                  |\n",
            "|news.ti.com         |3276          |9.9865718E7|0          |730                  |\n",
            "|www-d3.proxy.aol.com|3273          |5.8185558E7|0          |559                  |\n",
            "|www-b4.proxy.aol.com|3271          |5.1234302E7|0          |535                  |\n",
            "|www-c3.proxy.aol.com|3241          |5.3995279E7|0          |599                  |\n",
            "|www-d4.proxy.aol.com|3198          |5.3861305E7|0          |494                  |\n",
            "|www-c1.proxy.aol.com|3158          |5.8651379E7|0          |535                  |\n",
            "|www-c4.proxy.aol.com|3094          |4.7458486E7|0          |618                  |\n",
            "+--------------------+--------------+-----------+-----------+---------------------+\n",
            "only showing top 20 rows\n",
            "\n"
          ]
        }
      ]
    }
  ]
}