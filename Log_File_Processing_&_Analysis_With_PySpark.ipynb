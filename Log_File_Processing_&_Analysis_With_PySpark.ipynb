{
  "nbformat": 4,
  "nbformat_minor": 0,
  "metadata": {
    "colab": {
      "provenance": []
    },
    "kernelspec": {
      "name": "python3",
      "display_name": "Python 3"
    },
    "language_info": {
      "name": "python"
    }
  },
  "cells": [
    {
      "cell_type": "markdown",
      "source": [
        "# **Importing the Dataset from Kaggle**"
      ],
      "metadata": {
        "id": "WjZbSp0V7cym"
      }
    },
    {
      "cell_type": "markdown",
      "source": [
        "In this section, we connect Google Drive to access the Kaggle API token stored within it.\n",
        "Using the Kaggle API, we import the **NASA Website Data dataset**, which contains **HTTP web server logs** from the **NASA Kennedy Space Center (KSC)** for August 1995. Each record represents a single request made by an Internet host to the NASA website and includes details such as the **requesting host, timestamp, requested resource (URL), HTTP status code**, and **response size in bytes**."
      ],
      "metadata": {
        "id": "I2cn6iPL8baU"
      }
    },
    {
      "cell_type": "code",
      "execution_count": 1,
      "metadata": {
        "colab": {
          "base_uri": "https://localhost:8080/"
        },
        "id": "oDB1b2Me22as",
        "outputId": "0bccb1f1-f75e-4af3-9b8a-9ac835738d6e"
      },
      "outputs": [
        {
          "output_type": "stream",
          "name": "stdout",
          "text": [
            "Mounted at /content/drive\n"
          ]
        }
      ],
      "source": [
        "from google.colab import drive\n",
        "drive.mount('/content/drive')"
      ]
    },
    {
      "cell_type": "code",
      "source": [
        "!mkdir ~/.kaggle\n",
        "!cp /content/drive/MyDrive/kaggle/kaggle.json ~/.kaggle/\n",
        "!chmod 600 ~/.kaggle/kaggle.json"
      ],
      "metadata": {
        "id": "IUnGfIB-68nA"
      },
      "execution_count": 2,
      "outputs": []
    },
    {
      "cell_type": "code",
      "source": [
        "!kaggle datasets download -d djaouadnm/nasa-website-data"
      ],
      "metadata": {
        "colab": {
          "base_uri": "https://localhost:8080/"
        },
        "id": "gAy3-ced7HtK",
        "outputId": "b6ef2f48-79c2-4a62-d59e-bcefa27a4a32"
      },
      "execution_count": 3,
      "outputs": [
        {
          "output_type": "stream",
          "name": "stdout",
          "text": [
            "Dataset URL: https://www.kaggle.com/datasets/djaouadnm/nasa-website-data\n",
            "License(s): CC0-1.0\n",
            "Downloading nasa-website-data.zip to /content\n",
            "  0% 0.00/16.1M [00:00<?, ?B/s]\n",
            "100% 16.1M/16.1M [00:00<00:00, 1.23GB/s]\n"
          ]
        }
      ]
    },
    {
      "cell_type": "code",
      "source": [
        "!unzip -o nasa-website-data.zip"
      ],
      "metadata": {
        "colab": {
          "base_uri": "https://localhost:8080/"
        },
        "id": "SXl1n92g7hy2",
        "outputId": "30ca3d68-f56f-442c-fdd5-aa8fdaf3c2d5"
      },
      "execution_count": 4,
      "outputs": [
        {
          "output_type": "stream",
          "name": "stdout",
          "text": [
            "Archive:  nasa-website-data.zip\n",
            "  inflating: nasa_aug95_c.csv        \n"
          ]
        }
      ]
    },
    {
      "cell_type": "markdown",
      "source": [
        "# **Reading CSV File**"
      ],
      "metadata": {
        "id": "i9NbV0-x8paF"
      }
    },
    {
      "cell_type": "code",
      "source": [
        "from pyspark.sql import SparkSession\n",
        "spark = SparkSession.builder.appName(\"LogsAnalysis\").getOrCreate()"
      ],
      "metadata": {
        "id": "R5C7mMPu8sW9"
      },
      "execution_count": 5,
      "outputs": []
    },
    {
      "cell_type": "code",
      "source": [
        "# Define the dataset path\n",
        "path = \"/content/nasa_aug95_c.csv\"\n",
        "\n",
        "# Read the CSV file into a Spark DataFrame\n",
        "df = spark.read.csv(path, header=True, inferSchema=True)\n",
        "\n",
        "# Display the first 5 rows of the DataFrame\n",
        "df.show(5)"
      ],
      "metadata": {
        "colab": {
          "base_uri": "https://localhost:8080/"
        },
        "id": "Ik1sOIoX-CpY",
        "outputId": "92968a5e-a6ab-40d2-f86b-09785032ac09"
      },
      "execution_count": 6,
      "outputs": [
        {
          "output_type": "stream",
          "name": "stdout",
          "text": [
            "+-----------------+-------------------+--------------------+------+-------------+\n",
            "|  requesting_host|           datetime|             request|status|response_size|\n",
            "+-----------------+-------------------+--------------------+------+-------------+\n",
            "|in24.inetnebr.com|1995-08-01 00:00:01|GET /shuttle/miss...|   200|       1839.0|\n",
            "|  uplherc.upl.com|1995-08-01 00:00:07|      GET / HTTP/1.0|   304|          0.0|\n",
            "|  uplherc.upl.com|1995-08-01 00:00:08|GET /images/ksclo...|   304|          0.0|\n",
            "|  uplherc.upl.com|1995-08-01 00:00:08|GET /images/MOSAI...|   304|          0.0|\n",
            "|  uplherc.upl.com|1995-08-01 00:00:08|GET /images/USA-l...|   304|          0.0|\n",
            "+-----------------+-------------------+--------------------+------+-------------+\n",
            "only showing top 5 rows\n",
            "\n"
          ]
        }
      ]
    },
    {
      "cell_type": "code",
      "source": [
        "# Number of rows\n",
        "df.count()"
      ],
      "metadata": {
        "colab": {
          "base_uri": "https://localhost:8080/"
        },
        "id": "A-w4JXtDOw1u",
        "outputId": "d0c74429-e00d-4ac2-fc71-bd7f02abd0a8"
      },
      "execution_count": 7,
      "outputs": [
        {
          "output_type": "execute_result",
          "data": {
            "text/plain": [
              "1569888"
            ]
          },
          "metadata": {},
          "execution_count": 7
        }
      ]
    },
    {
      "cell_type": "code",
      "source": [
        "# To see basic statistics of numeric columns\n",
        "df.describe().show()"
      ],
      "metadata": {
        "colab": {
          "base_uri": "https://localhost:8080/"
        },
        "id": "m-iACAm6bgLa",
        "outputId": "05024d8c-4e41-4bfc-a47d-2263062a0aa2"
      },
      "execution_count": 8,
      "outputs": [
        {
          "output_type": "stream",
          "name": "stdout",
          "text": [
            "+-------+--------------------+-----------------+-----------------+----------------+\n",
            "|summary|     requesting_host|          request|           status|   response_size|\n",
            "+-------+--------------------+-----------------+-----------------+----------------+\n",
            "|  count|             1569888|          1569888|          1569888|         1555720|\n",
            "|   mean|                NULL|             NULL|211.9429118510365|17244.9678759674|\n",
            "| stddev|                NULL|             NULL|35.07107507102347|68244.0386594844|\n",
            "|    min|         ***.novo.dk|                ?|              200|             0.0|\n",
            "|    max|zzzzzzzz.mindspri...|huttle/countdown/|              501|       3421948.0|\n",
            "+-------+--------------------+-----------------+-----------------+----------------+\n",
            "\n"
          ]
        }
      ]
    },
    {
      "cell_type": "code",
      "source": [
        "# Print the schema (structure) of the DataFrame\n",
        "df.printSchema()"
      ],
      "metadata": {
        "colab": {
          "base_uri": "https://localhost:8080/"
        },
        "id": "FdXDtJRb-JNf",
        "outputId": "5b389641-eb46-4c31-8401-b6232b8cc294"
      },
      "execution_count": 9,
      "outputs": [
        {
          "output_type": "stream",
          "name": "stdout",
          "text": [
            "root\n",
            " |-- requesting_host: string (nullable = true)\n",
            " |-- datetime: timestamp (nullable = true)\n",
            " |-- request: string (nullable = true)\n",
            " |-- status: integer (nullable = true)\n",
            " |-- response_size: double (nullable = true)\n",
            "\n"
          ]
        }
      ]
    },
    {
      "cell_type": "code",
      "source": [
        "# Check column names with their data types\n",
        "df.dtypes"
      ],
      "metadata": {
        "colab": {
          "base_uri": "https://localhost:8080/"
        },
        "id": "Ng2ocr4B-KpN",
        "outputId": "d5caa3ac-1108-4682-b2cf-3cb3e0b411d3"
      },
      "execution_count": 10,
      "outputs": [
        {
          "output_type": "execute_result",
          "data": {
            "text/plain": [
              "[('requesting_host', 'string'),\n",
              " ('datetime', 'timestamp'),\n",
              " ('request', 'string'),\n",
              " ('status', 'int'),\n",
              " ('response_size', 'double')]"
            ]
          },
          "metadata": {},
          "execution_count": 10
        }
      ]
    },
    {
      "cell_type": "code",
      "source": [
        "# Get unique values from the status column\n",
        "df.select(\"status\").distinct().show()"
      ],
      "metadata": {
        "colab": {
          "base_uri": "https://localhost:8080/"
        },
        "id": "Dtw7DpuiKzwt",
        "outputId": "a33e0796-ba7c-46fd-ee84-90068b3e87e3"
      },
      "execution_count": 11,
      "outputs": [
        {
          "output_type": "stream",
          "name": "stdout",
          "text": [
            "+------+\n",
            "|status|\n",
            "+------+\n",
            "|   501|\n",
            "|   500|\n",
            "|   403|\n",
            "|   404|\n",
            "|   200|\n",
            "|   304|\n",
            "|   302|\n",
            "|   400|\n",
            "+------+\n",
            "\n"
          ]
        }
      ]
    },
    {
      "cell_type": "markdown",
      "source": [
        "In short:\n",
        "*   **200s** → Successful responses\n",
        "*   **300s** → Redirection or cache-related\n",
        "*   **400s** → Client-side errors\n",
        "*   **500s** → Server-side errors"
      ],
      "metadata": {
        "id": "9DSP84cbNk55"
      }
    },
    {
      "cell_type": "code",
      "source": [
        "# To check for missing or null values in selected columns\n",
        "from pyspark.sql.functions import col\n",
        "\n",
        "def check_nulls(df):\n",
        "    for c in df.columns:\n",
        "        num_null = df.filter((col(c).isNull()) | (col(c) == \"\")).count()\n",
        "        print(f\"The column '{c}' has {num_null} null values.\")\n",
        "\n",
        "check_nulls(df)"
      ],
      "metadata": {
        "colab": {
          "base_uri": "https://localhost:8080/"
        },
        "id": "YMZLETI7cZCJ",
        "outputId": "5b201ce3-7505-4df3-9267-5ace25cb47e9"
      },
      "execution_count": 12,
      "outputs": [
        {
          "output_type": "stream",
          "name": "stdout",
          "text": [
            "The column 'requesting_host' has 0 null values.\n",
            "The column 'datetime' has 0 null values.\n",
            "The column 'request' has 0 null values.\n",
            "The column 'status' has 0 null values.\n",
            "The column 'response_size' has 14168 null values.\n"
          ]
        }
      ]
    },
    {
      "cell_type": "code",
      "source": [
        "# Drop the rows where 'Sales' has null values\n",
        "df = df.dropna(subset=[\"response_size\"])"
      ],
      "metadata": {
        "id": "11iRbzw5f0iN"
      },
      "execution_count": 13,
      "outputs": []
    },
    {
      "cell_type": "code",
      "source": [
        "check_nulls(df)"
      ],
      "metadata": {
        "colab": {
          "base_uri": "https://localhost:8080/"
        },
        "id": "Bxx0o_XFgdKa",
        "outputId": "f1a39b14-bd41-44d3-ce8e-6300c2a50988"
      },
      "execution_count": 14,
      "outputs": [
        {
          "output_type": "stream",
          "name": "stdout",
          "text": [
            "The column 'requesting_host' has 0 null values.\n",
            "The column 'datetime' has 0 null values.\n",
            "The column 'request' has 0 null values.\n",
            "The column 'status' has 0 null values.\n",
            "The column 'response_size' has 0 null values.\n"
          ]
        }
      ]
    },
    {
      "cell_type": "markdown",
      "source": [
        "# **Find the top 10 most requested pages (URLs) on the NASA website.**"
      ],
      "metadata": {
        "id": "SZlVmlElAceP"
      }
    },
    {
      "cell_type": "code",
      "source": [
        "from pyspark.sql import functions as F\n",
        "\n",
        "df_page = df.withColumn('Page', F.regexp_extract(F.col('request'), r'GET (.*?) HTTP', 1))\n",
        "\n",
        "df_page.groupBy(\"Page\") \\\n",
        "    .agg(F.count(\"request\").alias('Total_requests')) \\\n",
        "    .orderBy(F.desc('Total_requests')) \\\n",
        "    .show(10, truncate=False)"
      ],
      "metadata": {
        "colab": {
          "base_uri": "https://localhost:8080/"
        },
        "id": "2yGYYyMiAfQI",
        "outputId": "385b8704-dcfb-4e06-8cab-5549e49b8558"
      },
      "execution_count": 15,
      "outputs": [
        {
          "output_type": "stream",
          "name": "stdout",
          "text": [
            "+---------------------------------------+--------------+\n",
            "|Page                                   |Total_requests|\n",
            "+---------------------------------------+--------------+\n",
            "|/images/NASA-logosmall.gif             |96854         |\n",
            "|/images/KSC-logosmall.gif              |75143         |\n",
            "|/images/MOSAIC-logosmall.gif           |66977         |\n",
            "|/images/USA-logosmall.gif              |66605         |\n",
            "|/images/WORLD-logosmall.gif            |65986         |\n",
            "|/images/ksclogo-medium.gif             |62304         |\n",
            "|/ksc.html                              |43392         |\n",
            "|/history/apollo/images/apollo-logo1.gif|37754         |\n",
            "|/images/launch-logo.gif                |35066         |\n",
            "|/                                      |29875         |\n",
            "+---------------------------------------+--------------+\n",
            "only showing top 10 rows\n",
            "\n"
          ]
        }
      ]
    },
    {
      "cell_type": "markdown",
      "source": [
        "# **At what hour of the day does the NASA website receive the most traffic?**"
      ],
      "metadata": {
        "id": "qGNGi0XwD_D0"
      }
    },
    {
      "cell_type": "code",
      "source": [
        "df_hour = df.withColumn('Hour', F.hour(F.col('datetime')))\n",
        "\n",
        "df_hour.groupBy('Hour') \\\n",
        "       .agg(F.count('request').alias('Total_requests')) \\\n",
        "       .orderBy(F.desc('Total_requests')) \\\n",
        "       .show()"
      ],
      "metadata": {
        "colab": {
          "base_uri": "https://localhost:8080/"
        },
        "id": "aoyU4MuSEBFx",
        "outputId": "4522d3e7-f5cd-4a3b-c140-0de2cde2b46f"
      },
      "execution_count": 16,
      "outputs": [
        {
          "output_type": "stream",
          "name": "stdout",
          "text": [
            "+----+--------------+\n",
            "|Hour|Total_requests|\n",
            "+----+--------------+\n",
            "|  15|        108645|\n",
            "|  12|        104255|\n",
            "|  13|        103666|\n",
            "|  14|        100661|\n",
            "|  16|         98680|\n",
            "|  11|         94637|\n",
            "|  10|         87558|\n",
            "|  17|         80043|\n",
            "|   9|         78117|\n",
            "|  18|         66222|\n",
            "|   8|         64939|\n",
            "|  22|         60054|\n",
            "|  20|         59318|\n",
            "|  19|         58710|\n",
            "|  21|         57425|\n",
            "|  23|         53935|\n",
            "|   0|         47392|\n",
            "|   7|         47062|\n",
            "|   1|         38109|\n",
            "|   2|         31809|\n",
            "+----+--------------+\n",
            "only showing top 20 rows\n",
            "\n"
          ]
        }
      ]
    },
    {
      "cell_type": "markdown",
      "source": [
        "# **Find the day of the week (Monday, Tuesday, etc.) with the highest total number of requests.**"
      ],
      "metadata": {
        "id": "O3Ksc-QjFaBo"
      }
    },
    {
      "cell_type": "code",
      "source": [
        "df_day = df.withColumn('Day', F.date_format(F.col('datetime'), 'EEEE'))\n",
        "\n",
        "df_day.groupBy('Day') \\\n",
        "       .agg(F.count('request').alias('Total_requests')) \\\n",
        "       .orderBy(F.desc('Total_requests')) \\\n",
        "       .show()"
      ],
      "metadata": {
        "colab": {
          "base_uri": "https://localhost:8080/"
        },
        "id": "w-sHc2MJFZM1",
        "outputId": "e8ace698-12e2-4521-9c5d-6ce96fb101e2"
      },
      "execution_count": 17,
      "outputs": [
        {
          "output_type": "stream",
          "name": "stdout",
          "text": [
            "+---------+--------------+\n",
            "|      Day|Total_requests|\n",
            "+---------+--------------+\n",
            "| Thursday|        301669|\n",
            "|  Tuesday|        276317|\n",
            "|Wednesday|        253680|\n",
            "|   Friday|        232515|\n",
            "|   Monday|        226156|\n",
            "|   Sunday|        133032|\n",
            "| Saturday|        132351|\n",
            "+---------+--------------+\n",
            "\n"
          ]
        }
      ]
    },
    {
      "cell_type": "markdown",
      "source": [
        "# **Find the total response size per day of the week to see which day consumes the most bandwidth.**"
      ],
      "metadata": {
        "id": "nCbNlaf4Mjyb"
      }
    },
    {
      "cell_type": "code",
      "source": [
        "df_day.groupBy('Day') \\\n",
        "      .agg(F.sum('response_size').alias('Total_response_size')) \\\n",
        "      .orderBy(F.desc('Total_response_size')) \\\n",
        "      .show()"
      ],
      "metadata": {
        "colab": {
          "base_uri": "https://localhost:8080/"
        },
        "id": "Ixt_N5LwMolW",
        "outputId": "9ce5f0d6-d41c-4eab-a188-323964693d6a"
      },
      "execution_count": 18,
      "outputs": [
        {
          "output_type": "stream",
          "name": "stdout",
          "text": [
            "+---------+-------------------+\n",
            "|      Day|Total_response_size|\n",
            "+---------+-------------------+\n",
            "| Thursday|       5.04513484E9|\n",
            "|  Tuesday|      4.679266066E9|\n",
            "|Wednesday|      4.217550565E9|\n",
            "|   Friday|      4.087947003E9|\n",
            "|   Monday|      3.803970385E9|\n",
            "|   Sunday|      2.516940002E9|\n",
            "| Saturday|      2.477532563E9|\n",
            "+---------+-------------------+\n",
            "\n"
          ]
        }
      ]
    },
    {
      "cell_type": "markdown",
      "source": [
        "# **Which page generated the highest total response size (in bytes) across all requests?**"
      ],
      "metadata": {
        "id": "k7MgJ0eGN-9n"
      }
    },
    {
      "cell_type": "code",
      "source": [
        "df_page.groupBy('Page')\\\n",
        "      .agg(F.sum('response_size').alias('Total_response_size')) \\\n",
        "      .orderBy(F.desc('Total_response_size')) \\\n",
        "      .show()"
      ],
      "metadata": {
        "colab": {
          "base_uri": "https://localhost:8080/"
        },
        "id": "q5xlRopfOAsY",
        "outputId": "2abfac4d-3d3b-47dc-a68c-82f6ca077903"
      },
      "execution_count": 19,
      "outputs": [
        {
          "output_type": "stream",
          "name": "stdout",
          "text": [
            "+--------------------+-------------------+\n",
            "|                Page|Total_response_size|\n",
            "+--------------------+-------------------+\n",
            "|/shuttle/missions...|      1.640444674E9|\n",
            "|/shuttle/missions...|       1.00509884E9|\n",
            "|/shuttle/missions...|       5.11296379E8|\n",
            "|/shuttle/technolo...|       4.92453023E8|\n",
            "|/shuttle/missions...|       4.63593461E8|\n",
            "|/shuttle/missions...|       4.39216472E8|\n",
            "|/shuttle/countdow...|        4.0740895E8|\n",
            "|     /images/rss.gif|       3.24018977E8|\n",
            "|/images/ksclogo-m...|        3.1993164E8|\n",
            "|/shuttle/missions...|        3.0956846E8|\n",
            "|           /ksc.html|       2.91706417E8|\n",
            "|  /images/launch.gif|       2.86305212E8|\n",
            "|/shuttle/missions...|       2.78768874E8|\n",
            "|/shuttle/technolo...|       2.53152638E8|\n",
            "|/shuttle/missions...|       2.45903068E8|\n",
            "|/shuttle/missions...|       2.38252603E8|\n",
            "|/shuttle/missions...|       2.23765612E8|\n",
            "|/images/launchmed...|       2.16696546E8|\n",
            "|/shuttle/missions...|       2.08793835E8|\n",
            "|/shuttle/technolo...|       2.00201448E8|\n",
            "+--------------------+-------------------+\n",
            "only showing top 20 rows\n",
            "\n"
          ]
        }
      ]
    },
    {
      "cell_type": "markdown",
      "source": [
        "# **Identify potential bot/bulk-download activity and quantify its impact.**"
      ],
      "metadata": {
        "id": "hMLQy4SoQPLM"
      }
    },
    {
      "cell_type": "markdown",
      "source": [
        "In this step, we **analyze each requesting host** (IP or domain) to identify potential bot or bulk-download activity. By grouping requests by host, we calculate metrics such as the **total number of requests**, **total data downloaded, number of errors, and approximate number of distinct pages visited**. These metrics help detect abnormal patterns, for example, **hosts making a very large number of requests or downloading excessive data** are likely automated scripts or bots."
      ],
      "metadata": {
        "id": "OjAM1lo2ZMKX"
      }
    },
    {
      "cell_type": "code",
      "source": [
        "df_hosts = df_page.groupBy('requesting_host').agg(\n",
        "    F.count('*').alias('total_requests'),\n",
        "    F.sum('response_size').alias('total_bytes'),\n",
        "    F.sum(F.when(F.col('status') >= 400, 1).otherwise(0)).alias('error_count'),\n",
        "    F.approx_count_distinct('Page').alias('approx_distinct_pages')\n",
        ")"
      ],
      "metadata": {
        "id": "XKHX0_A1QQsU"
      },
      "execution_count": 20,
      "outputs": []
    },
    {
      "cell_type": "code",
      "source": [
        "df_hosts.orderBy(F.desc('total_requests')).show(20, truncate=False)"
      ],
      "metadata": {
        "colab": {
          "base_uri": "https://localhost:8080/"
        },
        "id": "1xpKn8VpZCDm",
        "outputId": "305a0880-b795-4db3-d2d8-21b0574a7001"
      },
      "execution_count": 21,
      "outputs": [
        {
          "output_type": "stream",
          "name": "stdout",
          "text": [
            "+--------------------+--------------+-----------+-----------+---------------------+\n",
            "|requesting_host     |total_requests|total_bytes|error_count|approx_distinct_pages|\n",
            "+--------------------+--------------+-----------+-----------+---------------------+\n",
            "|edams.ksc.nasa.gov  |6515          |5.5832306E7|0          |331                  |\n",
            "|piweba4y.prodigy.com|4797          |7.6491025E7|0          |649                  |\n",
            "|163.206.89.4        |4769          |7.0187337E7|0          |730                  |\n",
            "|piweba5y.prodigy.com|4564          |9.8635303E7|0          |726                  |\n",
            "|piweba3y.prodigy.com|4354          |9.0309823E7|0          |657                  |\n",
            "|www-d1.proxy.aol.com|3862          |6.0706648E7|0          |722                  |\n",
            "|www-b2.proxy.aol.com|3516          |5.7577609E7|0          |649                  |\n",
            "|www-b3.proxy.aol.com|3431          |5.9206086E7|0          |639                  |\n",
            "|www-c5.proxy.aol.com|3403          |6.2706573E7|0          |602                  |\n",
            "|www-b5.proxy.aol.com|3381          |5.5511856E7|0          |657                  |\n",
            "|www-c2.proxy.aol.com|3376          |6.0761367E7|0          |683                  |\n",
            "|www-d2.proxy.aol.com|3369          |6.1068369E7|0          |564                  |\n",
            "|www-a2.proxy.aol.com|3325          |5.5401293E7|0          |612                  |\n",
            "|news.ti.com         |3276          |9.9865718E7|0          |730                  |\n",
            "|www-d3.proxy.aol.com|3273          |5.8185558E7|0          |559                  |\n",
            "|www-b4.proxy.aol.com|3271          |5.1234302E7|0          |535                  |\n",
            "|www-c3.proxy.aol.com|3241          |5.3995279E7|0          |599                  |\n",
            "|www-d4.proxy.aol.com|3198          |5.3861305E7|0          |494                  |\n",
            "|www-c1.proxy.aol.com|3158          |5.8651379E7|0          |535                  |\n",
            "|www-c4.proxy.aol.com|3094          |4.7458486E7|0          |618                  |\n",
            "+--------------------+--------------+-----------+-----------+---------------------+\n",
            "only showing top 20 rows\n",
            "\n"
          ]
        }
      ]
    },
    {
      "cell_type": "markdown",
      "source": [
        "In this section, we detect **suspicious hosts** based on **unusually high request rates, bandwidth usage, and error frequencies**. We then quantify their overall impact by calculating what** percentage of total traffic **(requests and bandwidth) they represent. This helps identify whether automated crawlers or bulk downloaders are consuming a significant portion of server resources."
      ],
      "metadata": {
        "id": "ZpO7Omp99PCb"
      }
    },
    {
      "cell_type": "code",
      "source": [
        "# Start from df_hosts\n",
        "hosts_flags = df_hosts.select(\n",
        "    'requesting_host',\n",
        "    'total_requests',\n",
        "    'total_bytes',\n",
        "    'error_count',\n",
        "    'approx_distinct_pages'\n",
        ")\n",
        "\n",
        "# 1. Compute error rate\n",
        "hosts_flags = hosts_flags.withColumn(\n",
        "    'error_rate',\n",
        "    F.col('error_count') / F.col('total_requests')\n",
        ")\n",
        "\n",
        "# 2. Compute 95th percentile thresholds for each metric\n",
        "threshold_request_rate = hosts_flags.approxQuantile(\"total_requests\", [0.95], 0.01)[0]\n",
        "threshold_bandwidth = hosts_flags.approxQuantile(\"total_bytes\", [0.95], 0.01)[0]\n",
        "threshold_error_rate = hosts_flags.approxQuantile(\"error_rate\", [0.95], 0.01)[0]\n",
        "threshold_high_distinct_pages = hosts_flags.approxQuantile(\"approx_distinct_pages\", [0.95], 0.01)[0]\n",
        "\n",
        "# 3. Add flag columns based on thresholds\n",
        "hosts_flags = hosts_flags.withColumn(\n",
        "    'high_request_rate', F.when(F.col('total_requests') >= threshold_request_rate, 1).otherwise(0)\n",
        ").withColumn(\n",
        "    'high_bandwidth', F.when(F.col('total_bytes') >= threshold_bandwidth, 1).otherwise(0)\n",
        ").withColumn(\n",
        "    'high_error_rate', F.when(F.col('error_rate') >= threshold_error_rate, 1).otherwise(0)\n",
        ").withColumn(\n",
        "    'many_distinct_pages', F.when(F.col('approx_distinct_pages') >= threshold_high_distinct_pages, 1).otherwise(0)\n",
        ")\n",
        "\n",
        "# 4. Compute suspicion score\n",
        "hosts_flags = hosts_flags.withColumn(\n",
        "    'suspicion_score',\n",
        "    F.col('high_request_rate')*3 +\n",
        "    F.col('high_bandwidth')*2 +\n",
        "    F.col('high_error_rate')*2 +\n",
        "    F.col('many_distinct_pages')\n",
        ")\n",
        "\n",
        "# 5. Filter and order suspicious hosts\n",
        "suspicious_hosts = hosts_flags.filter(F.col('suspicion_score') >= 7).orderBy(F.desc('suspicion_score'))\n",
        "\n",
        "# 6. Display results\n",
        "suspicious_hosts.show(10, truncate=False)"
      ],
      "metadata": {
        "colab": {
          "base_uri": "https://localhost:8080/"
        },
        "id": "3ed0q_GHQJxa",
        "outputId": "5c3ed953-91b3-477f-f68c-acc9956611d5"
      },
      "execution_count": 22,
      "outputs": [
        {
          "output_type": "stream",
          "name": "stdout",
          "text": [
            "+--------------------+--------------+-----------+-----------+---------------------+----------+-----------------+--------------+---------------+-------------------+---------------+\n",
            "|requesting_host     |total_requests|total_bytes|error_count|approx_distinct_pages|error_rate|high_request_rate|high_bandwidth|high_error_rate|many_distinct_pages|suspicion_score|\n",
            "+--------------------+--------------+-----------+-----------+---------------------+----------+-----------------+--------------+---------------+-------------------+---------------+\n",
            "|www.mmjp.or.jp      |151           |2956660.0  |0          |71                   |0.0       |1                |1             |1              |1                  |8              |\n",
            "|163.205.54.76       |357           |1380901.0  |0          |45                   |0.0       |1                |1             |1              |1                  |8              |\n",
            "|fsd.com             |274           |5147791.0  |0          |166                  |0.0       |1                |1             |1              |1                  |8              |\n",
            "|gateway.ps.net      |265           |7938009.0  |0          |151                  |0.0       |1                |1             |1              |1                  |8              |\n",
            "|131.182.153.109     |64            |1777160.0  |0          |35                   |0.0       |1                |1             |1              |1                  |8              |\n",
            "|pm2_3.digital.net   |225           |2546994.0  |0          |114                  |0.0       |1                |1             |1              |1                  |8              |\n",
            "|pinta.csee.usf.edu  |684           |1.9951671E7|0          |300                  |0.0       |1                |1             |1              |1                  |8              |\n",
            "|163.205.80.44       |248           |6226389.0  |0          |58                   |0.0       |1                |1             |1              |1                  |8              |\n",
            "|portal.ameritech.com|184           |2223229.0  |0          |58                   |0.0       |1                |1             |1              |1                  |8              |\n",
            "|204.69.0.27         |366           |7151607.0  |0          |247                  |0.0       |1                |1             |1              |1                  |8              |\n",
            "+--------------------+--------------+-----------+-----------+---------------------+----------+-----------------+--------------+---------------+-------------------+---------------+\n",
            "only showing top 10 rows\n",
            "\n"
          ]
        }
      ]
    },
    {
      "cell_type": "code",
      "source": [
        "# Calculate total requests and bytes (all hosts)\n",
        "totals = hosts_flags.agg(\n",
        "    F.sum(\"total_requests\").alias(\"all_requests\"),\n",
        "    F.sum(\"total_bytes\").alias(\"all_bytes\")\n",
        ").collect()[0]\n",
        "\n",
        "# Calculate totals for suspicious hosts only\n",
        "suspicious_totals = suspicious_hosts.agg(\n",
        "    F.sum(\"total_requests\").alias(\"suspicious_requests\"),\n",
        "    F.sum(\"total_bytes\").alias(\"suspicious_bytes\")\n",
        ").collect()[0]\n",
        "\n",
        "# Compute the percentage impact\n",
        "request_impact = (suspicious_totals[\"suspicious_requests\"] / totals[\"all_requests\"]) * 100\n",
        "bytes_impact = (suspicious_totals[\"suspicious_bytes\"] / totals[\"all_bytes\"]) * 100\n",
        "\n",
        "print(f\"Suspicious hosts generated {request_impact:.2f}% of all requests.\")\n",
        "print(f\"Suspicious hosts consumed {bytes_impact:.2f}% of total bandwidth.\")"
      ],
      "metadata": {
        "colab": {
          "base_uri": "https://localhost:8080/"
        },
        "id": "qKshmJgDU2F5",
        "outputId": "8d4559f7-d4d1-4c68-f86c-7bb50a5a0985"
      },
      "execution_count": 23,
      "outputs": [
        {
          "output_type": "stream",
          "name": "stdout",
          "text": [
            "Suspicious hosts generated 32.88% of all requests.\n",
            "Suspicious hosts consumed 41.43% of total bandwidth.\n"
          ]
        }
      ]
    },
    {
      "cell_type": "markdown",
      "source": [
        "# **Identify the top 3 most visited pages per day based on the number of requests.**"
      ],
      "metadata": {
        "id": "4sGW9GOZYmxA"
      }
    },
    {
      "cell_type": "code",
      "source": [
        "from pyspark.sql import functions as F, Window\n",
        "\n",
        "# 1. Extract the page path from the HTTP request\n",
        "df_page = df.withColumn(\n",
        "    'Page',\n",
        "    F.regexp_extract(F.col('request'), r'GET (.*?) HTTP', 1)\n",
        ")\n",
        "\n",
        "# 2. Extract the day name (e.g., Monday, Tuesday) from the timestamp\n",
        "df_day = df_page.withColumn(\n",
        "    'Day',\n",
        "    F.date_format(F.col('datetime'), 'EEEE')\n",
        ")\n",
        "\n",
        "# 3. Count total requests per Page per Day\n",
        "df_page_per_day = df_day.groupBy('Day', 'Page').agg(\n",
        "    F.count('request').alias('Total_requests')\n",
        ")\n",
        "\n",
        "# 4. Define a window specification for ranking\n",
        "WindowSpec = Window.partitionBy('Day').orderBy(F.desc('Total_requests'))\n",
        "\n",
        "# 5. Add a rank to each page within the same day\n",
        "df_ranked = df_page_per_day.withColumn(\n",
        "    'Rank',\n",
        "    F.row_number().over(WindowSpec)\n",
        ")\n",
        "\n",
        "# 6. Keep only the top 3 pages per day\n",
        "top_3_pages_per_day = df_ranked.filter(F.col('Rank') <= 3)\n",
        "\n",
        "# Show results\n",
        "top_3_pages_per_day.show()"
      ],
      "metadata": {
        "colab": {
          "base_uri": "https://localhost:8080/"
        },
        "collapsed": true,
        "id": "aIbJD9d2Ysd4",
        "outputId": "3f191b15-a7ef-432f-a6b0-f823828cff96"
      },
      "execution_count": 24,
      "outputs": [
        {
          "output_type": "stream",
          "name": "stdout",
          "text": [
            "+---------+--------------------+--------------+----+\n",
            "|      Day|                Page|Total_requests|Rank|\n",
            "+---------+--------------------+--------------+----+\n",
            "|   Friday|/images/NASA-logo...|         14096|   1|\n",
            "|   Friday|/images/KSC-logos...|         11129|   2|\n",
            "|   Friday|/images/MOSAIC-lo...|         10492|   3|\n",
            "|   Monday|/images/NASA-logo...|         13651|   1|\n",
            "|   Monday|/images/KSC-logos...|         10876|   2|\n",
            "|   Monday|/images/MOSAIC-lo...|          9934|   3|\n",
            "| Saturday|/images/KSC-logos...|          6879|   1|\n",
            "| Saturday|/images/NASA-logo...|          6597|   2|\n",
            "| Saturday|/images/MOSAIC-lo...|          5026|   3|\n",
            "|   Sunday|/images/KSC-logos...|          6647|   1|\n",
            "|   Sunday|/images/NASA-logo...|          6194|   2|\n",
            "|   Sunday|/images/MOSAIC-lo...|          4731|   3|\n",
            "| Thursday|/images/NASA-logo...|         21667|   1|\n",
            "| Thursday|/images/KSC-logos...|         14246|   2|\n",
            "| Thursday|/images/MOSAIC-lo...|         13305|   3|\n",
            "|  Tuesday|/images/NASA-logo...|         17546|   1|\n",
            "|  Tuesday|/images/KSC-logos...|         13151|   2|\n",
            "|  Tuesday|/images/MOSAIC-lo...|         12504|   3|\n",
            "|Wednesday|/images/NASA-logo...|         17103|   1|\n",
            "|Wednesday|/images/KSC-logos...|         12215|   2|\n",
            "+---------+--------------------+--------------+----+\n",
            "only showing top 20 rows\n",
            "\n"
          ]
        }
      ]
    },
    {
      "cell_type": "code",
      "source": [
        "df_day.dtypes"
      ],
      "metadata": {
        "colab": {
          "base_uri": "https://localhost:8080/"
        },
        "id": "LMnqwuDKbAsL",
        "outputId": "483b70e7-85b5-4546-ae13-98842aa9345d"
      },
      "execution_count": 25,
      "outputs": [
        {
          "output_type": "execute_result",
          "data": {
            "text/plain": [
              "[('requesting_host', 'string'),\n",
              " ('datetime', 'timestamp'),\n",
              " ('request', 'string'),\n",
              " ('status', 'int'),\n",
              " ('response_size', 'double'),\n",
              " ('Page', 'string'),\n",
              " ('Day', 'string')]"
            ]
          },
          "metadata": {},
          "execution_count": 25
        }
      ]
    },
    {
      "cell_type": "markdown",
      "source": [
        "# **Classify each host based on its activity pattern as either ‘Normal’, ‘Potential Bot’, or ‘Heavy Downloader’, using a UDF.**"
      ],
      "metadata": {
        "id": "BUEmm1V0Njmd"
      }
    },
    {
      "cell_type": "code",
      "source": [
        "from pyspark.sql import functions as F, types as T\n",
        "\n",
        "# Aggregate activity per host\n",
        "df_hosts = df.groupBy(\"requesting_host\").agg(\n",
        "    F.count(\"*\").alias(\"total_requests\"),\n",
        "    F.sum(\"response_size\").alias(\"total_bytes\")\n",
        ")\n",
        "\n",
        "# We define the Python function for classification\n",
        "def classify_host_activity(total_requests, total_bytes):\n",
        "    if total_requests >= 1000:\n",
        "        return \"Potential Bot\"\n",
        "    elif total_bytes >= 10_000_000:\n",
        "        return \"Heavy Downloader\"\n",
        "    else:\n",
        "        return \"Normal\"\n",
        "\n",
        "# We register it as a UDF\n",
        "classify_host_activity_udf = F.udf(classify_host_activity, T.StringType())\n",
        "\n",
        "# Apply the UDF to create a new 'category' column\n",
        "category_df = df_hosts.withColumn(\n",
        "    \"category\",\n",
        "    classify_host_activity_udf(F.col(\"total_requests\"), F.col(\"total_bytes\"))\n",
        ")\n",
        "\n",
        "# Step 5: Summarize the number of hosts and total bytes per category\n",
        "result_df = category_df.groupBy(\"category\").agg(\n",
        "    F.count(\"*\").alias(\"total_hosts\"),\n",
        "    F.sum(\"total_bytes\").alias(\"total_bytes_used\")\n",
        ")\n",
        "\n",
        "result_df.show(truncate=False)"
      ],
      "metadata": {
        "colab": {
          "base_uri": "https://localhost:8080/"
        },
        "id": "qVjfLyKqbPUu",
        "outputId": "8a388b06-e815-4eae-9d6a-73f87387bd6b"
      },
      "execution_count": 26,
      "outputs": [
        {
          "output_type": "stream",
          "name": "stdout",
          "text": [
            "+----------------+-----------+----------------+\n",
            "|category        |total_hosts|total_bytes_used|\n",
            "+----------------+-----------+----------------+\n",
            "|Heavy Downloader|131        |2.070368238E9   |\n",
            "|Potential Bot   |62         |2.815525012E9   |\n",
            "|Normal          |74614      |2.1942448174E10 |\n",
            "+----------------+-----------+----------------+\n",
            "\n"
          ]
        }
      ]
    }
  ]
}